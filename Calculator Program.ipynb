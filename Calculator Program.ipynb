{
 "cells": [
  {
   "cell_type": "code",
   "execution_count": 4,
   "id": "1689c4c9",
   "metadata": {},
   "outputs": [
    {
     "name": "stdout",
     "output_type": "stream",
     "text": [
      "1 - Add\n",
      "2 - Subtract\n",
      "3 - Multiply\n",
      "4 - Divide\n",
      "5 - Square\n",
      "6 - Cube\n",
      "choose an operation: 4\n",
      "Enter the number a: 6\n",
      "Enter the number b: 5\n",
      "The result of the operation is 1.2\n"
     ]
    }
   ],
   "source": [
    "print(\"1 - Add\")\n",
    "print(\"2 - Subtract\")\n",
    "print(\"3 - Multiply\")\n",
    "print(\"4 - Divide\")\n",
    "print(\"5 - Square\")\n",
    "print(\"6 - Cube\")\n",
    "option = int(input(\"choose an operation: \"))\n",
    "\n",
    "if (option in [1,2,3,4,5,6]):\n",
    "    a = int(input(\"Enter the number a: \"))\n",
    "    b = int(input(\"Enter the number b: \"))\n",
    "    \n",
    "    if (option == 1):\n",
    "        result = a+b\n",
    "    elif (option == 2):\n",
    "        result = a-b\n",
    "    elif (option == 3):\n",
    "        result = a*b\n",
    "    elif (option == 4):\n",
    "        result = a/b\n",
    "    elif (option == 5):\n",
    "        result = a * a\n",
    "    elif (option == 6):\n",
    "        result = b*b*b\n",
    "    \n",
    "else:\n",
    "    print(\"Invalid operation requested\")\n",
    "    \n",
    "print(\"The result of the operation is {}\".format(result))"
   ]
  },
  {
   "cell_type": "code",
   "execution_count": null,
   "id": "aa8d7970",
   "metadata": {},
   "outputs": [],
   "source": []
  },
  {
   "cell_type": "code",
   "execution_count": null,
   "id": "a8748971",
   "metadata": {},
   "outputs": [],
   "source": []
  }
 ],
 "metadata": {
  "kernelspec": {
   "display_name": "Python 3 (ipykernel)",
   "language": "python",
   "name": "python3"
  },
  "language_info": {
   "codemirror_mode": {
    "name": "ipython",
    "version": 3
   },
   "file_extension": ".py",
   "mimetype": "text/x-python",
   "name": "python",
   "nbconvert_exporter": "python",
   "pygments_lexer": "ipython3",
   "version": "3.11.3"
  }
 },
 "nbformat": 4,
 "nbformat_minor": 5
}
